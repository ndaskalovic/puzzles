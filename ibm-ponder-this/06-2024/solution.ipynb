{
 "cells": [
  {
   "cell_type": "code",
   "execution_count": 1,
   "metadata": {},
   "outputs": [],
   "source": [
    "from gmpy2 import *\n",
    "ctx = get_context()"
   ]
  },
  {
   "cell_type": "code",
   "execution_count": 2,
   "metadata": {},
   "outputs": [],
   "source": [
    "ctx.precision = 1024\n",
    "tolerance = mpfr(\"10e-95\")\n",
    "MAX_DIGITS = 100\n",
    "PI = const_pi()"
   ]
  },
  {
   "cell_type": "code",
   "execution_count": 3,
   "metadata": {},
   "outputs": [],
   "source": [
    "# continued fraction approximation\n",
    "def continued(x, terms=10):\n",
    "  a = []\n",
    "  p = [mpz(0), mpz(1)]\n",
    "  q = [mpz(1), mpz(0)]\n",
    "  s = []\n",
    "  remainder = x\n",
    "\n",
    "  for i in range(terms):\n",
    "    an, frac = ctx.divmod(remainder, 1)\n",
    "    pn = an*p[-1] + p[-2]\n",
    "    qn = an*q[-1] + q[-2]\n",
    "\n",
    "    a.append(an)\n",
    "    p.append(pn)\n",
    "    q.append(qn)\n",
    "    s.append((pn, qn))\n",
    "    remainder = 1/frac\n",
    "\n",
    "  return (a, s)\n",
    "\n",
    "def acc(A, B):\n",
    "    return ctx.abs(A/B - PI)"
   ]
  },
  {
   "cell_type": "code",
   "execution_count": 4,
   "metadata": {},
   "outputs": [],
   "source": [
    "# Shiu, P. (1983). The Shapes and Sizes of Pythagorean Triangles. The Mathematical Gazette, 67(439), 33–38. https://doi.org/10.2307/3617358\n",
    "#      \n",
    "#       |\\\n",
    "#       |θ\\\n",
    "#       |  \\  \n",
    "#     B |   \\\n",
    "#       |    \\\n",
    "#       |     \\\n",
    "#       +-------\n",
    "#          A\n",
    "\n",
    "theta = ctx.atan(PI)\n",
    "u = ctx.tan(theta) + ctx.sec(theta)\n",
    "\n",
    "uc = continued(u, 100)\n",
    "\n",
    "A = None\n",
    "B = None\n",
    "C = None\n",
    "\n",
    "for i in range(1, len(uc[1])):\n",
    "    mk, nk = uc[1][i]\n",
    "    b = round(2*mk*nk)\n",
    "    a = round(mk**2-nk**2)\n",
    "    c = round(mk**2+nk**2)\n",
    "    if len(str(a)) <= MAX_DIGITS and len(str(b)) <= MAX_DIGITS and len(str(c)) <= MAX_DIGITS:\n",
    "        A=a\n",
    "        B=b\n",
    "        C=c"
   ]
  },
  {
   "cell_type": "code",
   "execution_count": 5,
   "metadata": {},
   "outputs": [
    {
     "data": {
      "text/plain": [
       "mpfr('8.231296699055685559347806118953504876248412071290880992269427824106930538656682974986177263921745213479771243157800527424306744943735830262054089084776720650076160160526778081536995735287135272704321354683706076409428779224066505015403265830210986416805633542772937427844386494871967229262170789731707964073712e-100',1024)"
      ]
     },
     "execution_count": 5,
     "metadata": {},
     "output_type": "execute_result"
    }
   ],
   "source": [
    "acc(A, B)"
   ]
  },
  {
   "cell_type": "code",
   "execution_count": 6,
   "metadata": {},
   "outputs": [
    {
     "data": {
      "text/plain": [
       "True"
      ]
     },
     "execution_count": 6,
     "metadata": {},
     "output_type": "execute_result"
    }
   ],
   "source": [
    "acc(A,B) < tolerance"
   ]
  },
  {
   "cell_type": "code",
   "execution_count": 7,
   "metadata": {},
   "outputs": [
    {
     "name": "stdout",
     "output_type": "stream",
     "text": [
      "7587913369291793355483954865939511319631499416831284048493458379055569840760599914906716656558340169 100\n",
      "2415307840951734337432198049563674226343154113717780196065002464546224600850140849822617621311193520 100\n",
      "7963048490775380427270778481970239699181818003038762882000266727829823866626269563794546888916000969 100\n"
     ]
    }
   ],
   "source": [
    "print(A, len(str(A)))\n",
    "print(B, len(str(B)))\n",
    "print(C, len(str(C)))"
   ]
  },
  {
   "cell_type": "code",
   "execution_count": 8,
   "metadata": {},
   "outputs": [
    {
     "data": {
      "text/plain": [
       "(True, True)"
      ]
     },
     "execution_count": 8,
     "metadata": {},
     "output_type": "execute_result"
    }
   ],
   "source": [
    "sqrt(A**2+B**2) == C, is_square(A**2+B**2)"
   ]
  }
 ],
 "metadata": {
  "kernelspec": {
   "display_name": "base",
   "language": "python",
   "name": "python3"
  },
  "language_info": {
   "codemirror_mode": {
    "name": "ipython",
    "version": 3
   },
   "file_extension": ".py",
   "mimetype": "text/x-python",
   "name": "python",
   "nbconvert_exporter": "python",
   "pygments_lexer": "ipython3",
   "version": "3.11.7"
  }
 },
 "nbformat": 4,
 "nbformat_minor": 2
}
